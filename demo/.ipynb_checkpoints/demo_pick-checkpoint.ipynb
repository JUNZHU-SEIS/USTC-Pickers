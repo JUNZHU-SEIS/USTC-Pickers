{
 "cells": [
  {
   "cell_type": "markdown",
   "id": "c106181e",
   "metadata": {
    "slideshow": {
     "slide_type": "-"
    }
   },
   "source": [
    "# A short tutorial on USTC-Pickers (<3 min)\n",
    "* If any question, please feel free to contact me via email: `zhujun2316@mail.ustc.edu.cn`\n",
    "* Dependencies: Obspy, PyTorch, [SeisBench v0.5.0](https://github.com/seisbench/seisbench/releases/tag/v0.5.0)"
   ]
  },
  {
   "cell_type": "markdown",
   "id": "bb1098a5",
   "metadata": {
    "slideshow": {
     "slide_type": "slide"
    }
   },
   "source": [
    "## Load a model"
   ]
  },
  {
   "cell_type": "code",
   "execution_count": 1,
   "id": "4606d474",
   "metadata": {
    "slideshow": {
     "slide_type": "subslide"
    }
   },
   "outputs": [
    {
     "name": "stderr",
     "output_type": "stream",
     "text": [
      "/usr/lib/python3/dist-packages/scipy/__init__.py:146: UserWarning: A NumPy version >=1.17.3 and <1.25.0 is required for this version of SciPy (detected version 1.26.0\n",
      "  warnings.warn(f\"A NumPy version >={np_minversion} and <{np_maxversion}\"\n"
     ]
    },
    {
     "name": "stdout",
     "output_type": "stream",
     "text": [
      "Plase specify a region or province to pick phases, e.g. Beijing. 42 pickers are available in the subfolder \"USTC-Pickers/model_list/v0.1\"TibetNE\n",
      "You are using the picker located at ../model_list/v0.1/藏东北.pt\n",
      "\n"
     ]
    }
   ],
   "source": [
    "import seisbench\n",
    "import seisbench.models as sbm\n",
    "import os\n",
    "import glob\n",
    "import torch\n",
    "device = torch.device('cuda:0' if torch.cuda.is_available() else 'cpu')\n",
    "from config import (en2cn, model_list)\n",
    "sample_rate = 50\n",
    "# 为拾取的目标区域选定合适的picker，如Sichuan（四川）、CSES（实验场）、TP（青藏高原）、China（中国）\n",
    "location = input('Plase specify a region or province to pick phases, e.g. Beijing. 42 pickers are available in the subfolder \"%s\"'%os.path.join('USTC-Pickers', 'model_list', 'v0.1'))\n",
    "if location not in en2cn:\n",
    "    exit('The region you specified is not available. Plase choose a region or province from below--------\\n%s\\n-----------------------------------------------------------------------------------------------'%(', '.join(en2cn)))\n",
    "elif location!='China':\n",
    "    model_save_path = glob.glob(os.path.join(model_list, '*'+en2cn[location]+'.pt'))[0]\n",
    "    print('You are using the picker located at %s\\n'%model_save_path)\n",
    "    # 模型初始化\n",
    "    picker = sbm.PhaseNet(sampling_rate=sample_rate)\n",
    "    # 加载模型\n",
    "    picker.load_state_dict(\n",
    "        torch.load(\n",
    "            model_save_path,\n",
    "            map_location=device).state_dict()\n",
    "    )\n",
    "else:\n",
    "    print('You are using the China picker, \"diting\", published by SeisBench')\n",
    "    picker = sbm.PhaseNet.from_pretrained('diting')\n",
    "    picker.sampling_rate=sample_rate"
   ]
  },
  {
   "cell_type": "markdown",
   "id": "16005010",
   "metadata": {
    "slideshow": {
     "slide_type": "slide"
    }
   },
   "source": [
    "## Read waveforms"
   ]
  },
  {
   "cell_type": "code",
   "execution_count": 2,
   "id": "261df044",
   "metadata": {
    "slideshow": {
     "slide_type": "slide"
    }
   },
   "outputs": [
    {
     "name": "stdout",
     "output_type": "stream",
     "text": [
      "../test_data/mseed/**.mseed\n",
      "6 Trace(s) in Stream:\n",
      "CN.BJ..BHE | 2018-07-18T15:24:11.300000Z - 2018-07-18T15:27:11.280000Z | 50.0 Hz, 9000 samples\n",
      "CN.BJ..BHN | 2018-07-18T15:24:11.300000Z - 2018-07-18T15:27:11.280000Z | 50.0 Hz, 9000 samples\n",
      "CN.BJ..BHZ | 2018-07-18T15:24:11.300000Z - 2018-07-18T15:27:11.280000Z | 50.0 Hz, 9000 samples\n",
      "CN.SC..BHE | 2010-03-14T20:34:19.500000Z - 2010-03-14T20:37:19.480000Z | 50.0 Hz, 9000 samples\n",
      "CN.SC..BHN | 2010-03-14T20:34:19.500000Z - 2010-03-14T20:37:19.480000Z | 50.0 Hz, 9000 samples\n",
      "CN.SC..BHZ | 2010-03-14T20:34:19.500000Z - 2010-03-14T20:37:19.480000Z | 50.0 Hz, 9000 samples\n"
     ]
    }
   ],
   "source": [
    "from obspy import read\n",
    "from config import (sac, mseed)\n",
    "\n",
    "# Read the 3-component waveforms as input\n",
    "#inputfile = mseed.replace('Beijing', 'Sichuan')\n",
    "inputfile = mseed.replace('Beijing', '*')\n",
    "#inputfile = sac.replace('Beijing', 'Sichuan')\n",
    "#inputfile = sac.replace('Beijing', '*')\n",
    "print(inputfile)\n",
    "stream = read(inputfile)\n",
    "print(stream)"
   ]
  },
  {
   "cell_type": "markdown",
   "id": "4d40ae72",
   "metadata": {
    "slideshow": {
     "slide_type": "slide"
    }
   },
   "source": [
    "## Model response (optional)"
   ]
  },
  {
   "cell_type": "code",
   "execution_count": 3,
   "id": "a096abdc",
   "metadata": {
    "slideshow": {
     "slide_type": "slide"
    }
   },
   "outputs": [
    {
     "data": {
      "image/png": "[encoded data removed]",
      "text/plain": [
       "<Figure size 432x288 with 2 Axes>"
      ]
     },
     "metadata": {
      "needs_background": "light"
     },
     "output_type": "display_data"
    }
   ],
   "source": [
    "import numpy as np\n",
    "response = picker.annotate(stream)\n",
    "# Plot the response\n",
    "import matplotlib.pyplot as plt\n",
    "\n",
    "time_diff = response[0].stats.starttime-stream[0].stats.starttime\n",
    "fig, ax = plt.subplots(2, 1, sharex=True)\n",
    "t0 = np.arange(stream[0].stats.npts)/sample_rate\n",
    "t1 = np.arange(response[0].stats.npts)/sample_rate + time_diff\n",
    "ax[0].plot(t0, np.array([x.data for x in stream[:3]]).transpose(), label=[x.stats.channel for x in stream[:3]])\n",
    "ax[1].plot(t1, np.array([x.data for x in response[1:3]]).transpose(), label=['P', 'S'])\n",
    "ax[1].set_xlabel('Time (s)')\n",
    "ax[1].set_ylim(0, 1)\n",
    "for j in ax:\n",
    "    j.legend()\n",
    "    j.set_xlim(0, t0.max()+1)\n",
    "plt.show()\n",
    "plt.close()"
   ]
  },
  {
   "cell_type": "markdown",
   "id": "3077d818",
   "metadata": {
    "slideshow": {
     "slide_type": "slide"
    }
   },
   "source": [
    "## Retrieve the predicted picks"
   ]
  },
  {
   "cell_type": "code",
   "execution_count": 4,
   "id": "4e370f53",
   "metadata": {
    "slideshow": {
     "slide_type": "slide"
    }
   },
   "outputs": [
    {
     "name": "stdout",
     "output_type": "stream",
     "text": [
      "Printing picks\n",
      "CN.BJ.\t2018-07-18T15:25:01.800000Z\tS\n",
      "CN.SC.\t2010-03-14T20:35:00.900000Z\tS\n",
      "CN.BJ.\t2018-07-18T15:24:51.120000Z\tP\n",
      "CN.SC.\t2010-03-14T20:34:55.260000Z\tP\n",
      "{'P': {'trace': ['CN.BJ.', 'CN.SC.'], 'time': ['20180718T15:24:51.12', '20100314T20:34:55.26']}, 'S': {'trace': ['CN.BJ.', 'CN.SC.'], 'time': ['20180718T15:25:01.80', '20100314T20:35:00.90']}}\n"
     ]
    }
   ],
   "source": [
    "classifyoutput = picker.classify(stream, P_threshold=.3, S_threshold=.3)\n",
    "picks = classifyoutput.picks\n",
    "print('Printing picks')\n",
    "lines = {phase:{'trace':[],'time':[]} for phase in 'PS'}\n",
    "def format_utc(t):\n",
    "    return '%04d%02d%02dT%02d:%02d:%02d.%02d'%(t.year,t.month,t.day,t.hour,t.minute,t.second,t.microsecond/1e4)\n",
    "for pick in picks:\n",
    "    print(pick)\n",
    "    # Please ensure both the station and network code exist in the header of the SAC files\n",
    "    lines[pick.phase]['trace'].append(pick.trace_id)\n",
    "    lines[pick.phase]['time'].append(format_utc(pick.peak_time))\n",
    "print(lines)\n",
    "import json\n",
    "# save results as json\n",
    "with open('results/picks_demo.json','w') as fp:\n",
    "    json.dump(lines,fp)\n",
    "# read results as dict\n",
    "with open('results/picks_demo.json','r') as fp:\n",
    "    data = json.load(fp)"
   ]
  }
 ],
 "metadata": {
  "celltoolbar": "Slideshow",
  "kernelspec": {
   "display_name": "Python 3 (ipykernel)",
   "language": "python",
   "name": "python3"
  },
  "language_info": {
   "codemirror_mode": {
    "name": "ipython",
    "version": 3
   },
   "file_extension": ".py",
   "mimetype": "text/x-python",
   "name": "python",
   "nbconvert_exporter": "python",
   "pygments_lexer": "ipython3",
   "version": "3.10.12"
  }
 },
 "nbformat": 4,
 "nbformat_minor": 5
}
