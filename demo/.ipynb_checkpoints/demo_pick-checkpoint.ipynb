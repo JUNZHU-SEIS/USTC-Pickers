{
 "cells": [
  {
   "cell_type": "markdown",
   "id": "c106181e",
   "metadata": {
    "slideshow": {
     "slide_type": "-"
    }
   },
   "source": [
    "# A short tutorial on USTC-Pickers ($\\approx$3 min)\n",
    "* If any question, please feel free to contact me via email: `zhujun2316@mail.ustc.edu.cn`\n",
    "* Dependencies: Obspy, PyTorch, [SeisBench](https://github.com/seisbench/seisbench)"
   ]
  },
  {
   "cell_type": "markdown",
   "id": "bb1098a5",
   "metadata": {
    "slideshow": {
     "slide_type": "slide"
    }
   },
   "source": [
    "## Load a model"
   ]
  },
  {
   "cell_type": "code",
   "execution_count": 22,
   "id": "a2e749cd",
   "metadata": {
    "slideshow": {
     "slide_type": "slide"
    }
   },
   "outputs": [],
   "source": [
    "import seisbench\n",
    "import seisbench.models as sbm\n",
    "\n",
    "# Instatiate a picker\n",
    "sample_rate = 50 # Our pickers are trained using waveform sampled at 50 Hz\n",
    "picker = sbm.PhaseNet(phases='PSN', sampling_rate=sample_rate)\n",
    "# print(picker) # Uncomment this line to see the structure of the PhaseNet model if necessary"
   ]
  },
  {
   "cell_type": "code",
   "execution_count": 18,
   "id": "4606d474",
   "metadata": {
    "slideshow": {
     "slide_type": "subslide"
    }
   },
   "outputs": [
    {
     "name": "stdout",
     "output_type": "stream",
     "text": [
      "Plase specify a region or province to pick phases, e.g. Beijing. 41 pickers are available now in the subfolder \"USTC-Pickers/model_list/\"Beijing\n",
      "You are using the picker located at ../model_list/6_北京市.pt\n"
     ]
    }
   ],
   "source": [
    "import os\n",
    "import glob\n",
    "import torch\n",
    "device = torch.device('cuda' if torch.cuda.is_available() else 'cpu')\n",
    "from config import (en2cn, model_list)\n",
    "\n",
    "# Specify your target region\n",
    "location = input('Plase specify a region or province to pick phases, e.g. Beijing. 41 pickers are available now in the subfolder \"%s\"'%(os.path.join('USTC-Pickers', 'model_list', '')))\n",
    "if location not in en2cn:\n",
    "    raise UserWarning('The region you specified is not available. Please choose a region or province listed below:\\n%s.'%(', '.join(['%s (%s)'%(x,y) for x,y in en2cn.items()])))\n",
    "else:\n",
    "    model_save_path = glob.glob(os.path.join(model_list, '*'+en2cn[location]+'.pt'))[0]\n",
    "    print('You are using the picker located at %s'%model_save_path)\n",
    "    # Load a picker suitable to your target region\n",
    "    picker.load_state_dict(torch.load(model_save_path,\n",
    "\t\t\tmap_location=device).state_dict())"
   ]
  },
  {
   "cell_type": "markdown",
   "id": "16005010",
   "metadata": {
    "slideshow": {
     "slide_type": "slide"
    }
   },
   "source": [
    "## Read waveforms"
   ]
  },
  {
   "cell_type": "code",
   "execution_count": 19,
   "id": "261df044",
   "metadata": {
    "slideshow": {
     "slide_type": "slide"
    }
   },
   "outputs": [
    {
     "name": "stdout",
     "output_type": "stream",
     "text": [
      "../test_data/sac/Beijing*.sac\n",
      "3 Trace(s) in Stream:\n",
      "...BHE | 2018-07-18T15:24:11.300000Z - 2018-07-18T15:27:11.280000Z | 50.0 Hz, 9000 samples\n",
      "...BHN | 2018-07-18T15:24:11.300000Z - 2018-07-18T15:27:11.280000Z | 50.0 Hz, 9000 samples\n",
      "...BHZ | 2018-07-18T15:24:11.300000Z - 2018-07-18T15:27:11.280000Z | 50.0 Hz, 9000 samples\n"
     ]
    }
   ],
   "source": [
    "from obspy import read\n",
    "from config import (sac, mseed)\n",
    "\n",
    "# Read the 3-component waveforms as input\n",
    "print(sac)\n",
    "#print(mseed)\n",
    "stream = read(sac)\n",
    "#stream = read(mseed)\n",
    "print(stream)"
   ]
  },
  {
   "cell_type": "markdown",
   "id": "4d40ae72",
   "metadata": {
    "slideshow": {
     "slide_type": "slide"
    }
   },
   "source": [
    "## Model response (optional)"
   ]
  },
  {
   "cell_type": "code",
   "execution_count": 20,
   "id": "a096abdc",
   "metadata": {
    "slideshow": {
     "slide_type": "slide"
    }
   },
   "outputs": [
    {
     "data": {
      "image/png": "[encoded data removed]",
      "text/plain": [
       "<Figure size 432x288 with 2 Axes>"
      ]
     },
     "metadata": {
      "needs_background": "light"
     },
     "output_type": "display_data"
    }
   ],
   "source": [
    "import numpy as np\n",
    "\n",
    "# Calculate the response\n",
    "response = picker.annotate(stream)\n",
    "\n",
    "# Plot the response\n",
    "import matplotlib.pyplot as plt\n",
    "\n",
    "fig, ax = plt.subplots(2, 1, sharex=True)\n",
    "t = np.arange(stream[0].data.shape[0])/sample_rate\n",
    "ax[0].plot(t, np.array([x.data for x in stream]).transpose(), label=[x.stats.channel for x in stream])\n",
    "ax[1].plot(t, np.array([x.data for x in response[:-1]]).transpose(), label=['P', 'S'])\n",
    "ax[1].set_xlabel('Time (s)')\n",
    "ax[1].set_ylim(0, 1)\n",
    "for j in ax:\n",
    "    j.legend()\n",
    "    j.set_xlim(0, t.max()+1)\n",
    "plt.show()\n",
    "plt.close()"
   ]
  },
  {
   "cell_type": "markdown",
   "id": "3077d818",
   "metadata": {
    "slideshow": {
     "slide_type": "slide"
    }
   },
   "source": [
    "## Retrieve the predicted picks"
   ]
  },
  {
   "cell_type": "code",
   "execution_count": 21,
   "id": "4e370f53",
   "metadata": {
    "slideshow": {
     "slide_type": "slide"
    }
   },
   "outputs": [
    {
     "name": "stdout",
     "output_type": "stream",
     "text": [
      "{'trace_id': '..', 'start_time': UTCDateTime(2018, 7, 18, 15, 24, 50, 480000), 'end_time': UTCDateTime(2018, 7, 18, 15, 24, 51, 840000), 'peak_time': UTCDateTime(2018, 7, 18, 15, 24, 51, 120000), 'peak_value': 0.958199, 'phase': 'P'} \n",
      " 0.64\n",
      "{'trace_id': '..', 'start_time': UTCDateTime(2018, 7, 18, 15, 25, 1, 340000), 'end_time': UTCDateTime(2018, 7, 18, 15, 25, 2, 860000), 'peak_time': UTCDateTime(2018, 7, 18, 15, 25, 1, 940000), 'peak_value': 0.8697559, 'phase': 'S'} \n",
      " 0.6\n"
     ]
    }
   ],
   "source": [
    "picks = picker.classify(stream, P_threshold=.3, S_threshold=.3) # Both thresholds can be tuned for your target\n",
    "for x in picks:\n",
    "    print(x.__dict__, '\\n', x.peak_time-x.start_time)"
   ]
  }
 ],
 "metadata": {
  "celltoolbar": "Slideshow",
  "kernelspec": {
   "display_name": "Python 3 (ipykernel)",
   "language": "python",
   "name": "python3"
  },
  "language_info": {
   "codemirror_mode": {
    "name": "ipython",
    "version": 3
   },
   "file_extension": ".py",
   "mimetype": "text/x-python",
   "name": "python",
   "nbconvert_exporter": "python",
   "pygments_lexer": "ipython3",
   "version": "3.10.5"
  }
 },
 "nbformat": 4,
 "nbformat_minor": 5
}
